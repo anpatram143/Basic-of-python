{
 "cells": [
  {
   "cell_type": "code",
   "execution_count": null,
   "metadata": {},
   "outputs": [],
   "source": [
    "#basic operations are\n",
    "#arithmetic\n",
    "#logical\n",
    "#relational etc.\n"
   ]
  },
  {
   "cell_type": "code",
   "execution_count": 13,
   "metadata": {},
   "outputs": [
    {
     "name": "stdout",
     "output_type": "stream",
     "text": [
      "28\n",
      "18\n",
      "4.0\n",
      "144\n"
     ]
    }
   ],
   "source": [
    "#arithematic operation by numpy fucntions\n",
    "c=np.add(23,5)\n",
    "print(c)\n",
    "d=np.subtract(23,5)\n",
    "print(d)\n",
    "e=np.divide(24,6)\n",
    "print(e)\n",
    "f=np.multiply(24,6)\n",
    "print(f)"
   ]
  },
  {
   "cell_type": "code",
   "execution_count": 1,
   "metadata": {},
   "outputs": [
    {
     "data": {
      "text/plain": [
       "[1, 2, 3, 4, 5, 4, 5, 1, 3, 6]"
      ]
     },
     "execution_count": 1,
     "metadata": {},
     "output_type": "execute_result"
    }
   ],
   "source": [
    "#arithmetic\n",
    "a=[1,2,3,4,5]\n",
    "b=[4,5,1,3,6]\n",
    "a+b   # not the addition so required to convert into array\n",
    "#called vector addition"
   ]
  },
  {
   "cell_type": "code",
   "execution_count": 4,
   "metadata": {},
   "outputs": [
    {
     "data": {
      "text/plain": [
       "array([ 5,  7,  4,  7, 11])"
      ]
     },
     "execution_count": 4,
     "metadata": {},
     "output_type": "execute_result"
    }
   ],
   "source": [
    "import numpy as np\n",
    "a=np.array(a)\n",
    "b=np.array(b)\n",
    "a+b # called vector addition\n",
    "#similarly we can do all arthimatic operation on array"
   ]
  },
  {
   "cell_type": "code",
   "execution_count": 18,
   "metadata": {},
   "outputs": [
    {
     "name": "stdout",
     "output_type": "stream",
     "text": [
      "[84]\n",
      "[12 45 23 21]\n"
     ]
    }
   ],
   "source": [
    "#we can do comparision also\n",
    "t=np.array([12,45,84,23,21])\n",
    "print(t[t>50])\n",
    "print(t[t<50])"
   ]
  },
  {
   "cell_type": "code",
   "execution_count": 25,
   "metadata": {},
   "outputs": [
    {
     "name": "stdout",
     "output_type": "stream",
     "text": [
      "[ True False False False  True False False False]\n",
      "[ True  True  True  True  True  True  True  True]\n",
      "[False  True  True False False False False False]\n"
     ]
    }
   ],
   "source": [
    "#logical operation\n",
    "f=np.array([4,1,2,6,4,8,9,7])\n",
    "g=np.logical_and(f>2,f<5)\n",
    "print(g)\n",
    "h=np.logical_or(f>2,f<5)\n",
    "print(h)\n",
    "j=np.logical_not(f>2)\n",
    "print(j)"
   ]
  }
 ],
 "metadata": {
  "kernelspec": {
   "display_name": "Python 3",
   "language": "python",
   "name": "python3"
  },
  "language_info": {
   "codemirror_mode": {
    "name": "ipython",
    "version": 3
   },
   "file_extension": ".py",
   "mimetype": "text/x-python",
   "name": "python",
   "nbconvert_exporter": "python",
   "pygments_lexer": "ipython3",
   "version": "3.6.5"
  }
 },
 "nbformat": 4,
 "nbformat_minor": 2
}
