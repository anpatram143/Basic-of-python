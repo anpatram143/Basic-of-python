{
 "cells": [
  {
   "cell_type": "code",
   "execution_count": 2,
   "metadata": {},
   "outputs": [
    {
     "data": {
      "text/plain": [
       "'win32'"
      ]
     },
     "execution_count": 2,
     "metadata": {},
     "output_type": "execute_result"
    }
   ],
   "source": [
    "#know the system and python version \n",
    "import sys\n",
    "sys.version\n",
    "sys.platform"
   ]
  },
  {
   "cell_type": "code",
   "execution_count": 3,
   "metadata": {},
   "outputs": [
    {
     "name": "stdout",
     "output_type": "stream",
     "text": [
      "Hiiii\n"
     ]
    }
   ],
   "source": [
    "#basics of python\n",
    "#it is case sensitive language\n",
    "h1=\"\"\"Hiiii\"\"\"\n",
    "print(h1)"
   ]
  },
  {
   "cell_type": "code",
   "execution_count": 4,
   "metadata": {},
   "outputs": [
    {
     "data": {
      "text/plain": [
       "True"
      ]
     },
     "execution_count": 4,
     "metadata": {},
     "output_type": "execute_result"
    }
   ],
   "source": [
    "n=None\n",
    "n is None"
   ]
  },
  {
   "cell_type": "code",
   "execution_count": 6,
   "metadata": {},
   "outputs": [
    {
     "data": {
      "text/plain": [
       "'2.53'"
      ]
     },
     "execution_count": 6,
     "metadata": {},
     "output_type": "execute_result"
    }
   ],
   "source": [
    "#type casting\n",
    "f=2.53\n",
    "int(f)\n",
    "str(f)\n"
   ]
  },
  {
   "cell_type": "code",
   "execution_count": 12,
   "metadata": {},
   "outputs": [
    {
     "data": {
      "text/plain": [
       "(12, 1.2)"
      ]
     },
     "execution_count": 12,
     "metadata": {},
     "output_type": "execute_result"
    }
   ],
   "source": [
    "#Mainly 5 data structures in python\n",
    "#tuple & also tuples are imutable\n",
    "t=(12,1.20,3.0,300,(2.9,3),\"ram\")\n",
    "t[4][0]\n",
    "#t[5]=\"SB\" due to immutable\n",
    "t[-1]\n",
    "#slicing\n",
    "t[0:2]"
   ]
  },
  {
   "cell_type": "code",
   "execution_count": 4,
   "metadata": {},
   "outputs": [
    {
     "name": "stdout",
     "output_type": "stream",
     "text": [
      "[12.1, 5, 600, 'Shri Ram', (45.6, 21, 300), 'Mary', 'can you add me']\n"
     ]
    }
   ],
   "source": [
    "#list and list opertaion and also list are mutable\n",
    "\n",
    "l=[12.1,5,600,'Shri Ram',(45.6,21,300),\"Mary\"]\n",
    "l.append('can you add me')\n",
    "print(l)"
   ]
  },
  {
   "cell_type": "code",
   "execution_count": 2,
   "metadata": {},
   "outputs": [
    {
     "name": "stdout",
     "output_type": "stream",
     "text": [
      "[12.1, 5, 600, 'Ram', (45.6, 21, 300), 'hii']\n"
     ]
    }
   ],
   "source": [
    "#delete the most recent added item or works on FIFO\n",
    "l.pop()\n",
    "print(l)\n"
   ]
  },
  {
   "cell_type": "code",
   "execution_count": 6,
   "metadata": {},
   "outputs": [
    {
     "name": "stdout",
     "output_type": "stream",
     "text": [
      "['Jhon', 'Jhon', 12.1, 5, 600, 'Shri Ram', (45.6, 21, 300), 'Mary', 'can you add me']\n"
     ]
    }
   ],
   "source": [
    "#insert into specific location\n",
    "l.insert(0,\"Jhon\")\n",
    "print(l)"
   ]
  },
  {
   "cell_type": "code",
   "execution_count": 7,
   "metadata": {},
   "outputs": [
    {
     "name": "stdout",
     "output_type": "stream",
     "text": [
      "['Jhon', 'ram', 'Jhon', 12.1, 5, 600, 'Shri Ram', (45.6, 21, 300), 'Mary', 'can you add me']\n"
     ]
    }
   ],
   "source": [
    "l.insert(1,'ram')\n",
    "print(l)"
   ]
  },
  {
   "cell_type": "code",
   "execution_count": 23,
   "metadata": {},
   "outputs": [
    {
     "name": "stdout",
     "output_type": "stream",
     "text": [
      "{4}\n",
      "{1, 2, 3, 4, 5, 6}\n"
     ]
    }
   ],
   "source": [
    "#set and set opertaions\n",
    "A={1,2,3,4}\n",
    "B={4,5,6}\n",
    "print(A&B) #Intersection\n",
    "print(A|B) #Union"
   ]
  },
  {
   "cell_type": "code",
   "execution_count": 16,
   "metadata": {},
   "outputs": [
    {
     "name": "stdout",
     "output_type": "stream",
     "text": [
      "{'0': [1, 2, 3], '1': ['Good', 'Morning', 'all']}\n",
      "{'0': [1, 2, 3], '1': ['Good', 'Morning', 'all'], '2': [10, 20, 30]}\n"
     ]
    }
   ],
   "source": [
    "#dictionary\n",
    "A={'0':[1,2,3],'1':['Good','Morning','all']}\n",
    "print(A)\n",
    "A.keys()\n",
    "A.values()\n",
    "\n",
    "#it is mutable\n",
    "A['2']=[10,20,30]\n",
    "A.keys()\n",
    "A.values()\n",
    "print(A)"
   ]
  },
  {
   "cell_type": "code",
   "execution_count": null,
   "metadata": {},
   "outputs": [],
   "source": []
  },
  {
   "cell_type": "code",
   "execution_count": null,
   "metadata": {},
   "outputs": [],
   "source": []
  },
  {
   "cell_type": "code",
   "execution_count": null,
   "metadata": {},
   "outputs": [],
   "source": []
  },
  {
   "cell_type": "code",
   "execution_count": null,
   "metadata": {},
   "outputs": [],
   "source": []
  },
  {
   "cell_type": "code",
   "execution_count": null,
   "metadata": {},
   "outputs": [],
   "source": []
  },
  {
   "cell_type": "code",
   "execution_count": null,
   "metadata": {},
   "outputs": [],
   "source": []
  },
  {
   "cell_type": "code",
   "execution_count": null,
   "metadata": {},
   "outputs": [],
   "source": []
  }
 ],
 "metadata": {
  "kernelspec": {
   "display_name": "Python 3",
   "language": "python",
   "name": "python3"
  },
  "language_info": {
   "codemirror_mode": {
    "name": "ipython",
    "version": 3
   },
   "file_extension": ".py",
   "mimetype": "text/x-python",
   "name": "python",
   "nbconvert_exporter": "python",
   "pygments_lexer": "ipython3",
   "version": "3.6.5"
  }
 },
 "nbformat": 4,
 "nbformat_minor": 2
}
